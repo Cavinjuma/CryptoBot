{
  "cells": [
    {
      "cell_type": "markdown",
      "metadata": {
        "id": "view-in-github",
        "colab_type": "text"
      },
      "source": [
        "<a href=\"https://colab.research.google.com/github/Cavinjuma/CryptoBot/blob/main/Untitled5.ipynb\" target=\"_parent\"><img src=\"https://colab.research.google.com/assets/colab-badge.svg\" alt=\"Open In Colab\"/></a>"
      ]
    },
    {
      "cell_type": "code",
      "execution_count": null,
      "metadata": {
        "id": "rPEQ3fHz1_Ud"
      },
      "outputs": [],
      "source": [
        "\n",
        "# ------------------------------------------\n",
        "# STEP 1: Predefined Crypto Data\n",
        "# ------------------------------------------\n",
        "crypto_db = {\n",
        "    \"Bitcoin\": {\n",
        "        \"price_trend\": \"rising\",\n",
        "        \"market_cap\": \"high\",\n",
        "        \"energy_use\": \"high\",\n",
        "        \"sustainability_score\": 3/10\n",
        "    },\n",
        "    \"Ethereum\": {\n",
        "        \"price_trend\": \"stable\",\n",
        "        \"market_cap\": \"high\",\n",
        "        \"energy_use\": \"medium\",\n",
        "        \"sustainability_score\": 6/10\n",
        "    },\n",
        "    \"Cardano\": {\n",
        "        \"price_trend\": \"rising\",\n",
        "        \"market_cap\": \"medium\",\n",
        "        \"energy_use\": \"low\",\n",
        "        \"sustainability_score\": 8/10\n",
        "    }\n",
        "}\n",
        "\n",
        "# ------------------------------------------\n",
        "# STEP 2: Define Chatbot's Personality\n",
        "# ------------------------------------------\n",
        "def greet_user():\n",
        "    print(\"\\t🤖 Welcome to CryptoBot!\\n\")\n",
        "    print(\"👋 Hello! I’m CryptoBot — your AI-powered financial sidekick!\")\n",
        "    print(\"Ask me about trending cryptos, sustainable coins, or growth advice.\\n\")\n",
        "    print(\"📢 Disclaimer: Crypto is risky — always do your own research!\\n\")\n",
        "\n",
        "# ------------------------------------------\n",
        "# STEP 3: Rule-Based Advisor Logic\n",
        "# ------------------------------------------\n",
        "def crypto_advisor(user_query):\n",
        "    user_query = user_query.lower()\n",
        "\n",
        "    if \"hello\" in user_query or \"hi\" in user_query:\n",
        "        print(\" Hello! How can I assist you today regarding the crypto?\")\n",
        "\n",
        "    elif \"sustainable\" in user_query or \"eco\" in user_query:\n",
        "        recommend = max(crypto_db, key=lambda x: crypto_db[x][\"sustainability_score\"])\n",
        "        print(f\" Invest in {recommend}! It’s eco-friendly and has long-term potential!\")\n",
        "\n",
        "    elif \"trending\" in user_query or \"rising\" in user_query:\n",
        "        rising_cryptos = [coin for coin in crypto_db if crypto_db[coin][\"price_trend\"] == \"rising\"]\n",
        "        print(\" These cryptos are on the rise:\", ', '.join(rising_cryptos))\n",
        "\n",
        "    elif \"long-term\" in user_query or \"growth\" in user_query:\n",
        "        for coin, data in crypto_db.items():\n",
        "            if data[\"price_trend\"] == \"rising\" and data[\"sustainability_score\"] > 0.7:\n",
        "                print(f\" {coin} is trending up and has a top-tier sustainability score!\")\n",
        "                break\n",
        "        else:\n",
        "            print(\" No coin fully meets the long-term growth criteria right now.\")\n",
        "\n",
        "    elif \"which crypto\" in user_query or \"should i buy\" in user_query:\n",
        "        candidates = []\n",
        "        for coin, data in crypto_db.items():\n",
        "            if data[\"price_trend\"] == \"rising\" and data[\"energy_use\"] == \"low\" and data[\"sustainability_score\"] > 0.7:\n",
        "                candidates.append(coin)\n",
        "        if candidates:\n",
        "            print(f\" Based on your needs, consider investing in {candidates[0]}!\")\n",
        "        else:\n",
        "            print(\" Hmm, none match all the criteria right now.\")\n",
        "\n",
        "    else:\n",
        "        print(\"🤖 Sorry, I didn’t get that. Try asking about trends or sustainability.\")\n"
      ]
    }
  ],
  "metadata": {
    "colab": {
      "provenance": [],
      "authorship_tag": "ABX9TyMlNU4yblVJTDtU0DBnpl04",
      "include_colab_link": true
    },
    "kernelspec": {
      "display_name": "Python 3",
      "name": "python3"
    },
    "language_info": {
      "name": "python"
    }
  },
  "nbformat": 4,
  "nbformat_minor": 0
}